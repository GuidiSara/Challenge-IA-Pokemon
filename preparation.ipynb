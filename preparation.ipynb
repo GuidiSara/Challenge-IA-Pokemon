{
 "cells": [
  {
   "cell_type": "code",
   "execution_count": 19,
   "metadata": {},
   "outputs": [
    {
     "name": "stdout",
     "output_type": "stream",
     "text": [
      "Requirement already satisfied: cycler==0.10.0 in c:\\users\\guidi\\anaconda3\\lib\\site-packages (from -r requirements.txt (line 1)) (0.10.0)\n",
      "Requirement already satisfied: decorator==4.4.2 in c:\\users\\guidi\\anaconda3\\lib\\site-packages (from -r requirements.txt (line 2)) (4.4.2)\n",
      "Requirement already satisfied: kiwisolver==1.3.1 in c:\\users\\guidi\\anaconda3\\lib\\site-packages (from -r requirements.txt (line 3)) (1.3.1)\n",
      "Requirement already satisfied: matplotlib==3.4.0 in c:\\users\\guidi\\anaconda3\\lib\\site-packages (from -r requirements.txt (line 4)) (3.4.0)\n",
      "Obtaining networkx from git+https://github.com/GuidiSara/networkx.git@06ef187506c895797992f4e19d4bca9d3d2aae10#egg=networkx (from -r requirements.txt (line 5))\n",
      "  Skipping because already up-to-date.\n",
      "Requirement already satisfied: numpy==1.20.2 in c:\\users\\guidi\\anaconda3\\lib\\site-packages (from -r requirements.txt (line 6)) (1.20.2)\n",
      "Requirement already satisfied: pandas==1.2.3 in c:\\users\\guidi\\anaconda3\\lib\\site-packages (from -r requirements.txt (line 7)) (1.2.3)\n",
      "Requirement already satisfied: Pillow==8.1.2 in c:\\users\\guidi\\anaconda3\\lib\\site-packages (from -r requirements.txt (line 8)) (8.1.2)\n",
      "Requirement already satisfied: pyparsing==2.4.7 in c:\\users\\guidi\\anaconda3\\lib\\site-packages (from -r requirements.txt (line 9)) (2.4.7)\n",
      "Requirement already satisfied: python-dateutil==2.8.1 in c:\\users\\guidi\\anaconda3\\lib\\site-packages (from -r requirements.txt (line 10)) (2.8.1)\n",
      "Requirement already satisfied: pytz==2021.1 in c:\\users\\guidi\\anaconda3\\lib\\site-packages (from -r requirements.txt (line 11)) (2021.1)\n",
      "Requirement already satisfied: scipy==1.6.2 in c:\\users\\guidi\\anaconda3\\lib\\site-packages (from -r requirements.txt (line 12)) (1.6.2)\n",
      "Requirement already satisfied: six==1.15.0 in c:\\users\\guidi\\anaconda3\\lib\\site-packages (from -r requirements.txt (line 13)) (1.15.0)\n",
      "Installing collected packages: networkx\n",
      "  Attempting uninstall: networkx\n",
      "    Found existing installation: networkx 2.6rc1.dev0\n",
      "    Uninstalling networkx-2.6rc1.dev0:\n",
      "      Successfully uninstalled networkx-2.6rc1.dev0\n",
      "  Running setup.py develop for networkx\n",
      "Successfully installed networkx\n"
     ]
    }
   ],
   "source": [
    "!pip3 install -r requirements.txt\n"
   ]
  },
  {
   "cell_type": "code",
   "execution_count": 1,
   "metadata": {},
   "outputs": [],
   "source": [
    "import pandas as pd\n",
    "from sklearn.model_selection import train_test_split\n"
   ]
  },
  {
   "cell_type": "code",
   "execution_count": 2,
   "metadata": {},
   "outputs": [],
   "source": [
    "combats = pd.read_csv('./combats.partial.csv')"
   ]
  },
  {
   "cell_type": "code",
   "execution_count": 3,
   "metadata": {},
   "outputs": [
    {
     "data": {
      "text/html": [
       "<div>\n",
       "<style scoped>\n",
       "    .dataframe tbody tr th:only-of-type {\n",
       "        vertical-align: middle;\n",
       "    }\n",
       "\n",
       "    .dataframe tbody tr th {\n",
       "        vertical-align: top;\n",
       "    }\n",
       "\n",
       "    .dataframe thead th {\n",
       "        text-align: right;\n",
       "    }\n",
       "</style>\n",
       "<table border=\"1\" class=\"dataframe\">\n",
       "  <thead>\n",
       "    <tr style=\"text-align: right;\">\n",
       "      <th></th>\n",
       "      <th>Winner</th>\n",
       "      <th>First_pokemon</th>\n",
       "      <th>Second_pokemon</th>\n",
       "    </tr>\n",
       "  </thead>\n",
       "  <tbody>\n",
       "    <tr>\n",
       "      <th>0</th>\n",
       "      <td>650</td>\n",
       "      <td>650</td>\n",
       "      <td>579</td>\n",
       "    </tr>\n",
       "    <tr>\n",
       "      <th>1</th>\n",
       "      <td>151</td>\n",
       "      <td>151</td>\n",
       "      <td>558</td>\n",
       "    </tr>\n",
       "    <tr>\n",
       "      <th>2</th>\n",
       "      <td>340</td>\n",
       "      <td>340</td>\n",
       "      <td>631</td>\n",
       "    </tr>\n",
       "    <tr>\n",
       "      <th>3</th>\n",
       "      <td>139</td>\n",
       "      <td>688</td>\n",
       "      <td>139</td>\n",
       "    </tr>\n",
       "    <tr>\n",
       "      <th>4</th>\n",
       "      <td>132</td>\n",
       "      <td>365</td>\n",
       "      <td>132</td>\n",
       "    </tr>\n",
       "    <tr>\n",
       "      <th>...</th>\n",
       "      <td>...</td>\n",
       "      <td>...</td>\n",
       "      <td>...</td>\n",
       "    </tr>\n",
       "    <tr>\n",
       "      <th>39995</th>\n",
       "      <td>608</td>\n",
       "      <td>608</td>\n",
       "      <td>403</td>\n",
       "    </tr>\n",
       "    <tr>\n",
       "      <th>39996</th>\n",
       "      <td>149</td>\n",
       "      <td>761</td>\n",
       "      <td>149</td>\n",
       "    </tr>\n",
       "    <tr>\n",
       "      <th>39997</th>\n",
       "      <td>740</td>\n",
       "      <td>740</td>\n",
       "      <td>320</td>\n",
       "    </tr>\n",
       "    <tr>\n",
       "      <th>39998</th>\n",
       "      <td>465</td>\n",
       "      <td>465</td>\n",
       "      <td>536</td>\n",
       "    </tr>\n",
       "    <tr>\n",
       "      <th>39999</th>\n",
       "      <td>350</td>\n",
       "      <td>350</td>\n",
       "      <td>525</td>\n",
       "    </tr>\n",
       "  </tbody>\n",
       "</table>\n",
       "<p>40000 rows × 3 columns</p>\n",
       "</div>"
      ],
      "text/plain": [
       "       Winner  First_pokemon  Second_pokemon\n",
       "0         650            650             579\n",
       "1         151            151             558\n",
       "2         340            340             631\n",
       "3         139            688             139\n",
       "4         132            365             132\n",
       "...       ...            ...             ...\n",
       "39995     608            608             403\n",
       "39996     149            761             149\n",
       "39997     740            740             320\n",
       "39998     465            465             536\n",
       "39999     350            350             525\n",
       "\n",
       "[40000 rows x 3 columns]"
      ]
     },
     "execution_count": 3,
     "metadata": {},
     "output_type": "execute_result"
    }
   ],
   "source": [
    "combats"
   ]
  },
  {
   "cell_type": "code",
   "execution_count": 4,
   "metadata": {},
   "outputs": [],
   "source": [
    "train, test = train_test_split(combats, test_size=0.2,  random_state=40)\n",
    "train.to_csv('train.csv', index= False)\n",
    "test.to_csv('test.csv', index = False)"
   ]
  },
  {
   "cell_type": "code",
   "execution_count": null,
   "metadata": {},
   "outputs": [],
   "source": []
  }
 ],
 "metadata": {
  "kernelspec": {
   "display_name": "Python 3",
   "language": "python",
   "name": "python3"
  },
  "language_info": {
   "codemirror_mode": {
    "name": "ipython",
    "version": 3
   },
   "file_extension": ".py",
   "mimetype": "text/x-python",
   "name": "python",
   "nbconvert_exporter": "python",
   "pygments_lexer": "ipython3",
   "version": "3.8.5"
  }
 },
 "nbformat": 4,
 "nbformat_minor": 4
}
